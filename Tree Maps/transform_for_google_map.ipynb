{
  "cells": [
    {
      "metadata": {},
      "cell_type": "markdown",
      "source": "# Transform a map to overlay in Google\n\nOr are we just finding out about it?"
    },
    {
      "metadata": {
        "trusted": true
      },
      "cell_type": "code",
      "source": "# Load the package\n# spatial\n# To get the days of the week so I can query for thing 'weekend' install and load the package `lubridate`\ninstall.packages(\"raster\")\n\nlibrary(raster)\nlibrary(rgdal) # geographical data abstraction layer\n\n# Import the original raster and project with the new CRS\nimported_raster <- raster(\"./PREDIC~1\\\\ACERCA~1.GRD\")\nplot(imported_raster)\ncrs <- \"+proj=longlat +ellps=WGS84 +datum=WGS84 +no_defs\"\nprojected_raster <- projectRaster(imported_raster, crs=crs, method=\"ngb\") \n\n# Take a look at the \nplot(projected_raster)\nprojected_raster\nwidth <- 992\nheight <- 676\n\n# Create an image without a background and deform to match the CRS\npng(filename=\"./alaska.png\", bg=\"transparent\", width=width, height=height)\npar(mar = c(0,0,0,0))\nraster::image(projected_raster, axes=FALSE, xlab=NA, ylab=NA)\ndev.off()\n",
      "execution_count": 3,
      "outputs": [
        {
          "output_type": "stream",
          "text": "Installing package into ‘/home/nbuser/R’\n(as ‘lib’ is unspecified)\nWarning message in install.packages(\"raster\"):\n“installation of package ‘raster’ had non-zero exit status”",
          "name": "stderr"
        },
        {
          "output_type": "error",
          "ename": "ERROR",
          "evalue": "Error in library(raster): there is no package called ‘raster’\n",
          "traceback": [
            "Error in library(raster): there is no package called ‘raster’\nTraceback:\n",
            "1. library(raster)",
            "2. stop(txt, domain = NA)"
          ]
        }
      ]
    },
    {
      "metadata": {
        "trusted": true
      },
      "cell_type": "code",
      "source": "",
      "execution_count": null,
      "outputs": []
    }
  ],
  "metadata": {
    "kernelspec": {
      "name": "r",
      "display_name": "R",
      "language": "R"
    },
    "language_info": {
      "mimetype": "text/x-r-source",
      "name": "R",
      "pygments_lexer": "r",
      "version": "3.4.1",
      "file_extension": ".r",
      "codemirror_mode": "r"
    }
  },
  "nbformat": 4,
  "nbformat_minor": 2
}