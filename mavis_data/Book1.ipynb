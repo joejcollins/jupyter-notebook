{
  "cells": [
    {
      "metadata": {},
      "cell_type": "markdown",
      "source": "# Book1\n## Mavis Demo Data\n\nLoad the data."
    },
    {
      "metadata": {
        "trusted": true
      },
      "cell_type": "code",
      "source": "In<-read.csv(\"Book1.csv\")",
      "execution_count": 1,
      "outputs": []
    },
    {
      "metadata": {},
      "cell_type": "markdown",
      "source": "Get number of columns in input matrix and define plot counter"
    },
    {
      "metadata": {
        "trusted": true
      },
      "cell_type": "code",
      "source": "maxcol<- ncol(In)\ncounter=1",
      "execution_count": 2,
      "outputs": []
    },
    {
      "metadata": {},
      "cell_type": "markdown",
      "source": "Define a data frame to take the accumulated quadrat species lists plus covers"
    },
    {
      "metadata": {
        "trusted": true
      },
      "cell_type": "code",
      "source": "Out <- data.frame(x=integer(0), y=character(0), z=integer(0))\nnames(Out)[c(1,2,3)] <- c(\"Quadrat\",\"Names\",\"Cover\")",
      "execution_count": 3,
      "outputs": []
    },
    {
      "metadata": {},
      "cell_type": "markdown",
      "source": "Loop through matrix extracting each quadrat list and add to 'Out'"
    },
    {
      "metadata": {
        "trusted": true
      },
      "cell_type": "code",
      "source": "for (col in 2:maxcol)\n{ \n    Quadrat <- na.omit(In[,c(1,col)])\n    Qid <-rep(counter, times=nrow(Quadrat))\n    Quadrat <-cbind(Qid,Quadrat) \n    names(Quadrat)[c(1,2,3)] <- c(\"Quadrat\",\"Names\",\"Cover\")\n    Out <- rbind(Out,Quadrat)\n    counter=counter+1\n}",
      "execution_count": 4,
      "outputs": []
    },
    {
      "metadata": {},
      "cell_type": "markdown",
      "source": "Write to space delimited txt file"
    },
    {
      "metadata": {
        "trusted": true
      },
      "cell_type": "code",
      "source": "write.table(Out, \"Book1-out.txt\", col.names=FALSE, row.names=FALSE, quote=FALSE)",
      "execution_count": 5,
      "outputs": []
    }
  ],
  "metadata": {
    "kernelspec": {
      "name": "r",
      "display_name": "R",
      "language": "R"
    },
    "language_info": {
      "mimetype": "text/x-r-source",
      "name": "R",
      "pygments_lexer": "r",
      "version": "3.4.1",
      "file_extension": ".r",
      "codemirror_mode": "r"
    }
  },
  "nbformat": 4,
  "nbformat_minor": 2
}