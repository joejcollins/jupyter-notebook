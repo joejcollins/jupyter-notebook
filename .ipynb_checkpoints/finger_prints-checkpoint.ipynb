{
  "cells": [
    {
      "metadata": {},
      "cell_type": "markdown",
      "source": "# Checking ssh finger prints\n\nFor the given ssh public key generate md5 (`65:73:b8:a1:2b:f0:08:36:f7:c4:5d:e4:d7:d8:56:08`) and sha256\n(`qReUyTyRzocnY1bfy0ghVGOudo4CrAWvbdbMi4vQ0FI`) hashes.\n\n    ssh-rsa\n    AAAAB3NzaC1yc2EAAAADAQABAAABBwDWEzJA55Okk7P8VPdhOw5a\n    TsLsxnuT0iLbpFb+/\n    BOJ6SIvPtKNq1Tr4DXoIf9UG8Q6Mcuuglm1CFLDutVzcRHNjJ8FLu+LKQ\n    X9tn6fJy3oWHMtB15vRVM8J2sg48Fy8lFncT4mxG1ig2/\n    vrjNdKJXj93wNsLn4oUMLWim1+5BIFoejw2+Oq26/In6gXxGj2LG+\n    +z9yG540cOMZkxr8dcKi91ozvuJt8I1H2uh1Ujt33xqNGmYKBevsAb/\n    RpbWF9dLJ/\n    myJLVK6H6k2x479ZvWVRsK4O+oY3IBlR316NG58BO+ICmNArSPfHOfF\n    1rtoGlrSrsxBxTE6N2xF+YqBqwX7vKKnDcMp DevInteriew\n\nThe key includes newlines and there is no space after `ssh-rsa` so `ssh-keygen -lf key-original.pub` reports that \n`key-original.pub is not a public key file.`  I took out the newlines and added the space in an editor so now `ssh-keygen -lf key-edited.pub -E md5` reports `D5:ad:86:95:d7:5c:5d:fc:00:9d:87:57:f0:ff:5d:fc:e7` so either the key and fingerprints don't match or the edits have messed something up.\n\nFor test purposes I've generated three additional keys, so running `for file in ./*.pub; do ssh-keygen -lf \"$file\" -E md5; done` delivers this.\n\n     (RSA)D5:0f:3e:30:30:b0:27:c8:59:f9:58:d9:30:a8:b6:e4:72 key-01\n     (RSA)D5:84:f2:f7:c7:30:cc:48:bc:f4:be:20:1d:00:b8:8f:88 key-02\n     (RSA)D5:c7:75:6b:54:eb:97:d2:79:f8:68:89:52:1e:47:c7:9c key-03\n     (RSA)D5:ad:86:95:d7:5c:5d:fc:00:9d:87:57:f0:ff:5d:fc:e7 key-edited\n    ./key-original.pub is not a public key file.\n\nFor completeness `for file in ./*.pub; do ssh-keygen -lf \"$file\" -E sha265; done` delivers this.\n\n     (RSA)HA256:69yuLaGVhPMp+3q3PzN/2ekzhnujMcNTdODpbCc/nhU key-01\n     (RSA)HA256:ORcEjI5yqSKDQy4HRopBfzutjJlgDR+3sPfhdRbA5UY key-02\n     (RSA)HA256:RWWZNHAaLjM4gaBXpwoQkb95meqc2pl6DTiFTaw6vXI key-03\n     (RSA)HA256:VjwHh8jTGMCibdfEboLjn+dWAjcsyarVeQ7m9xfBNLk key-edited\n    ./key-original.pub is not a public key file.\n"
    },
    {
      "metadata": {
        "trusted": true
      },
      "cell_type": "code",
      "source": "%%capture # Suppress the output so everything looks neater\n!pip install sshpubkeys # Install sshpubkeys because it doesn't come by default with Azure Notebooks\nimport hashlib\nimport base64\nimport sshpubkeys",
      "execution_count": 42,
      "outputs": []
    },
    {
      "metadata": {
        "trusted": true
      },
      "cell_type": "code",
      "source": "myfile = open(\"DevInterview.pub\", \"r\")\nkey = myfile.read()\nprint(key)",
      "execution_count": 43,
      "outputs": [
        {
          "output_type": "stream",
          "text": "ssh-rsa AAAAB3NzaC1yc2EAAAADAQABAAABBwDWEzJA55Okk7P8VPdhOw5aTsLsxnuT0iLbpFb+/BOJ6SIvPtKNq1Tr4DXoIf9UG8Q6Mcuuglm1CFLDutVzcRHNjJ8FLu+LKQX9tn6fJy3oWHMtB15vRVM8J2sg48Fy8lFncT4mxG1ig2/vrjNdKJXj93wNsLn4oUMLWim1+5BIFoejw2+Oq26/In6gXxGj2LG++z9yG540cOMZkxr8dcKi91ozvuJt8I1H2uh1Ujt33xqNGmYKBevsAb/RpbWF9dLJ/myJLVK6H6k2x479ZvWVRsK4O+oY3IBlR316NG58BO+ICmNArSPfHOfF1rtoGlrSrsxBxTE6N2xF+YqBqwX7vKKnDcMp DevInteriew\n",
          "name": "stdout"
        }
      ]
    },
    {
      "metadata": {
        "trusted": true
      },
      "cell_type": "code",
      "source": "key = sshpubkeys.SSHKey(key)\nprint(key.hash_md5())\nprint(key.hash_sha256())",
      "execution_count": 44,
      "outputs": [
        {
          "output_type": "stream",
          "text": "MD5:ad:86:95:d7:5c:5d:fc:00:9d:87:57:f0:ff:5d:fc:e7\nSHA256:VjwHh8jTGMCibdfEboLjn+dWAjcsyarVeQ7m9xfBNLk\n",
          "name": "stdout"
        }
      ]
    },
    {
      "metadata": {
        "trusted": true
      },
      "cell_type": "code",
      "source": "myfile = open(\"key-03.pub\", \"r\")\nkey = myfile.read()\nkey = sshpubkeys.SSHKey(key)\nprint(key.hash_md5())\nprint(key.hash_sha256())",
      "execution_count": 1,
      "outputs": [
        {
          "output_type": "error",
          "ename": "NameError",
          "evalue": "name 'sshpubkeys' is not defined",
          "traceback": [
            "\u001b[0;31m\u001b[0m",
            "\u001b[0;31mNameError\u001b[0mTraceback (most recent call last)",
            "\u001b[0;32m<ipython-input-1-5b189f9bd6c5>\u001b[0m in \u001b[0;36m<module>\u001b[0;34m()\u001b[0m\n\u001b[1;32m      1\u001b[0m \u001b[0mmyfile\u001b[0m \u001b[0;34m=\u001b[0m \u001b[0mopen\u001b[0m\u001b[0;34m(\u001b[0m\u001b[0;34m\"key-03.pub\"\u001b[0m\u001b[0;34m,\u001b[0m \u001b[0;34m\"r\"\u001b[0m\u001b[0;34m)\u001b[0m\u001b[0;34m\u001b[0m\u001b[0m\n\u001b[1;32m      2\u001b[0m \u001b[0mkey\u001b[0m \u001b[0;34m=\u001b[0m \u001b[0mmyfile\u001b[0m\u001b[0;34m.\u001b[0m\u001b[0mread\u001b[0m\u001b[0;34m(\u001b[0m\u001b[0;34m)\u001b[0m\u001b[0;34m\u001b[0m\u001b[0m\n\u001b[0;32m----> 3\u001b[0;31m \u001b[0mkey\u001b[0m \u001b[0;34m=\u001b[0m \u001b[0msshpubkeys\u001b[0m\u001b[0;34m.\u001b[0m\u001b[0mSSHKey\u001b[0m\u001b[0;34m(\u001b[0m\u001b[0mkey\u001b[0m\u001b[0;34m)\u001b[0m\u001b[0;34m\u001b[0m\u001b[0m\n\u001b[0m\u001b[1;32m      4\u001b[0m \u001b[0;32mprint\u001b[0m\u001b[0;34m(\u001b[0m\u001b[0mkey\u001b[0m\u001b[0;34m.\u001b[0m\u001b[0mhash_md5\u001b[0m\u001b[0;34m(\u001b[0m\u001b[0;34m)\u001b[0m\u001b[0;34m)\u001b[0m\u001b[0;34m\u001b[0m\u001b[0m\n\u001b[1;32m      5\u001b[0m \u001b[0;32mprint\u001b[0m\u001b[0;34m(\u001b[0m\u001b[0mkey\u001b[0m\u001b[0;34m.\u001b[0m\u001b[0mhash_sha256\u001b[0m\u001b[0;34m(\u001b[0m\u001b[0;34m)\u001b[0m\u001b[0;34m)\u001b[0m\u001b[0;34m\u001b[0m\u001b[0m\n",
            "\u001b[0;31mNameError\u001b[0m: name 'sshpubkeys' is not defined"
          ]
        }
      ]
    },
    {
      "metadata": {
        "trusted": true
      },
      "cell_type": "code",
      "source": "",
      "execution_count": null,
      "outputs": []
    }
  ],
  "metadata": {
    "kernelspec": {
      "name": "python2",
      "display_name": "Python 2",
      "language": "python"
    },
    "language_info": {
      "mimetype": "text/x-python",
      "nbconvert_exporter": "python",
      "name": "python",
      "pygments_lexer": "ipython2",
      "version": "2.7.15",
      "file_extension": ".py",
      "codemirror_mode": {
        "version": 2,
        "name": "ipython"
      }
    }
  },
  "nbformat": 4,
  "nbformat_minor": 2
}