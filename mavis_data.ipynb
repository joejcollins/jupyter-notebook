{
  "cells": [
    {
      "metadata": {},
      "cell_type": "markdown",
      "source": "# Mags Excel Data\nLoad the data this time from the first sheet of an Excel spreadsheet."
    },
    {
      "metadata": {
        "trusted": true
      },
      "cell_type": "code",
      "source": "require(XLConnect)\nwb <- loadWorkbook(\"Preparing_data_for_MAVIS.xls\")\nIn <- readWorksheet(wb, sheet = \"To_R\", header = TRUE)",
      "execution_count": 1,
      "outputs": [
        {
          "output_type": "stream",
          "text": "Loading required package: XLConnect\nLoading required package: XLConnectJars\nXLConnect 0.2-13 by Mirai Solutions GmbH [aut],\n  Martin Studer [cre],\n  The Apache Software Foundation [ctb, cph] (Apache POI),\n  Graph Builder [ctb, cph] (Curvesapi Java library)\nhttp://www.mirai-solutions.com ,\nhttp://miraisolutions.wordpress.com\n",
          "name": "stderr"
        }
      ]
    },
    {
      "metadata": {},
      "cell_type": "markdown",
      "source": "Get number of columns in input matrix and define plot counter"
    },
    {
      "metadata": {
        "trusted": true
      },
      "cell_type": "code",
      "source": "maxcol <- ncol(In)\ncounter=1",
      "execution_count": 2,
      "outputs": []
    },
    {
      "metadata": {},
      "cell_type": "markdown",
      "source": "Define a data frame to take the accumulated quadrat species lists plus covers"
    },
    {
      "metadata": {
        "trusted": true
      },
      "cell_type": "code",
      "source": "Out <- data.frame(x=integer(0), y=character(0), z=integer(0))\nnames(Out)[c(1,2,3)] <- c(\"Quadrat\",\"Names\",\"Cover\")",
      "execution_count": 3,
      "outputs": []
    },
    {
      "metadata": {},
      "cell_type": "markdown",
      "source": "Loop through matrix extracting each quadrat list and add to 'Out'"
    },
    {
      "metadata": {
        "trusted": true
      },
      "cell_type": "code",
      "source": "for (col in 2:maxcol)\n{ \n    Quadrat <- na.omit(In[,c(1,col)])\n    Qid <-rep(counter, times = nrow(Quadrat))\n    Quadrat <-cbind(Qid, Quadrat) \n    names(Quadrat)[c(1, 2, 3)] <- c(\"Quadrat\", \"Names\", \"Cover\")\n    Out <- rbind(Out, Quadrat)\n    counter = counter + 1\n}",
      "execution_count": 4,
      "outputs": []
    },
    {
      "metadata": {},
      "cell_type": "markdown",
      "source": "Write to space delimited txt file"
    },
    {
      "metadata": {
        "trusted": true
      },
      "cell_type": "code",
      "source": "write.table(Out, \"Preparing_data_for_MAVIS_out.txt\", col.names=FALSE, row.names=FALSE, quote=FALSE)",
      "execution_count": 5,
      "outputs": []
    }
  ],
  "metadata": {
    "kernelspec": {
      "name": "r",
      "display_name": "R",
      "language": "R"
    },
    "language_info": {
      "mimetype": "text/x-r-source",
      "name": "R",
      "pygments_lexer": "r",
      "version": "3.4.1",
      "file_extension": ".r",
      "codemirror_mode": "r"
    }
  },
  "nbformat": 4,
  "nbformat_minor": 2
}