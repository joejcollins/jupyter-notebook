{
  "cells": [
    {
      "metadata": {
        "collapsed": true
      },
      "cell_type": "markdown",
      "source": "# Visiting Shrewsbury\n\nHow many times did I visit Shrewsbury?  Or at least how many times did my telephone visit Shrewsbury?\n\nThis is based on this strategy <https://shiring.github.io/maps/2016/12/30/Standortverlauf_post> for querying the location data.\n\nGoogle Take Out <https://takeout.google.com/settings/takeout> provides my location data in Json format, with `jsonlite` will load.  The `Location History.json` is already stripped down to 7 days, so there is less of it to handle.  The whole file is pretty big so is difficult to work with on Azure Notebooks."
    },
    {
      "metadata": {
        "trusted": true
      },
      "cell_type": "code",
      "source": "# Load the package\nlibrary(jsonlite)\nsystem.time(import <- fromJSON(\"Location History.json\"))",
      "execution_count": 1,
      "outputs": [
        {
          "output_type": "display_data",
          "data": {
            "text/plain": "   user  system elapsed \n  0.882   0.011   1.286 "
          },
          "metadata": {}
        }
      ]
    },
    {
      "metadata": {
        "trusted": true
      },
      "cell_type": "code",
      "source": "# extracting the locations dataframe\nlocations = import$locations\nhead(locations[,c(\"latitudeE7\", \"longitudeE7\", \"timestampMs\")], n=3)",
      "execution_count": 2,
      "outputs": [
        {
          "output_type": "display_data",
          "data": {
            "text/plain": "  latitudeE7 longitudeE7 timestampMs  \n1 525622196  -27951121   1541616455811\n2 525622196  -27951121   1541616049051\n3 525622196  -27951121   1541615881157",
            "text/latex": "\\begin{tabular}{r|lll}\n latitudeE7 & longitudeE7 & timestampMs\\\\\n\\hline\n\t 525622196     & -27951121     & 1541616455811\\\\\n\t 525622196     & -27951121     & 1541616049051\\\\\n\t 525622196     & -27951121     & 1541615881157\\\\\n\\end{tabular}\n",
            "text/markdown": "\n| latitudeE7 | longitudeE7 | timestampMs |\n|---|---|---|\n| 525622196     | -27951121     | 1541616455811 |\n| 525622196     | -27951121     | 1541616049051 |\n| 525622196     | -27951121     | 1541615881157 |\n\n",
            "text/html": "<table>\n<thead><tr><th scope=col>latitudeE7</th><th scope=col>longitudeE7</th><th scope=col>timestampMs</th></tr></thead>\n<tbody>\n\t<tr><td>525622196    </td><td>-27951121    </td><td>1541616455811</td></tr>\n\t<tr><td>525622196    </td><td>-27951121    </td><td>1541616049051</td></tr>\n\t<tr><td>525622196    </td><td>-27951121    </td><td>1541615881157</td></tr>\n</tbody>\n</table>\n"
          },
          "metadata": {}
        }
      ]
    },
    {
      "metadata": {},
      "cell_type": "markdown",
      "source": "## Converting the Data\n\nThe dates are held as POSIX dates (milliseconds since the begining of time) and need to be converted to to queried in a readable manner.  Also the locations are held as integers (for convenience) so need to be divided by 10^7 to get the latitude and longitudes.  The 'E7' on the field implies this."
    },
    {
      "metadata": {
        "trusted": true
      },
      "cell_type": "code",
      "source": "# converting time column from posix milliseconds into a readable time scale\nlocations$date_time = as.POSIXct(as.numeric(locations$timestampMs)/1000, origin = \"1970-01-01\")\nlocations$date <- as.Date(locations$date_time)\n# converting longitude and latitude from E7 to GPS coordinates\nlocations$lat = locations$latitudeE7 / 1e7\nlocations$lon = locations$longitudeE7 / 1e7\n\n# To get the days of the week so I can query for thing 'weekend' install and load the package `lubridate`\ninstall.packages(\"lubridate\")\nlibrary(lubridate)\n\nlocations$weekday <- wday(as.Date(locations$date_time))\nhead(locations[,c(\"lat\", \"lon\", \"date\", \"weekday\")], n=3) ",
      "execution_count": 3,
      "outputs": [
        {
          "output_type": "stream",
          "text": "Installing package into ‘/home/nbuser/R’\n(as ‘lib’ is unspecified)\nWarning message in install.packages(\"lubridate\"):\n“installation of package ‘lubridate’ had non-zero exit status”\nAttaching package: ‘lubridate’\n\nThe following object is masked from ‘package:base’:\n\n    date\n\n",
          "name": "stderr"
        },
        {
          "output_type": "display_data",
          "data": {
            "text/plain": "  lat      lon       date       weekday\n1 52.56222 -2.795112 2018-11-07 4      \n2 52.56222 -2.795112 2018-11-07 4      \n3 52.56222 -2.795112 2018-11-07 4      ",
            "text/latex": "\\begin{tabular}{r|llll}\n lat & lon & date & weekday\\\\\n\\hline\n\t 52.56222   & -2.795112  & 2018-11-07 & 4         \\\\\n\t 52.56222   & -2.795112  & 2018-11-07 & 4         \\\\\n\t 52.56222   & -2.795112  & 2018-11-07 & 4         \\\\\n\\end{tabular}\n",
            "text/markdown": "\n| lat | lon | date | weekday |\n|---|---|---|---|\n| 52.56222   | -2.795112  | 2018-11-07 | 4          |\n| 52.56222   | -2.795112  | 2018-11-07 | 4          |\n| 52.56222   | -2.795112  | 2018-11-07 | 4          |\n\n",
            "text/html": "<table>\n<thead><tr><th scope=col>lat</th><th scope=col>lon</th><th scope=col>date</th><th scope=col>weekday</th></tr></thead>\n<tbody>\n\t<tr><td>52.56222  </td><td>-2.795112 </td><td>2018-11-07</td><td>4         </td></tr>\n\t<tr><td>52.56222  </td><td>-2.795112 </td><td>2018-11-07</td><td>4         </td></tr>\n\t<tr><td>52.56222  </td><td>-2.795112 </td><td>2018-11-07</td><td>4         </td></tr>\n</tbody>\n</table>\n"
          },
          "metadata": {}
        }
      ]
    },
    {
      "metadata": {},
      "cell_type": "markdown",
      "source": "## Select the Visits\n\nUsing a box around Shrewsbury where:\n\n* bottom left = 52.704117, -2.762084\n* top right = 52.709638, -2.748738 \n\nAnd selecting the where the weekday is between 2 and 6 (Sunday = 1 and Saturday = 7, don't ask me why)."
    },
    {
      "metadata": {
        "trusted": true
      },
      "cell_type": "code",
      "source": "locations_in_shrewsbury <- subset(locations, lat > 52.704117 & lat < 52.709638 & lon< -2.748738 & lon> -2.762084 & weekday > 1 & weekday < 7)\nvisits_to_shrewsbury_in_working_week <- unique(locations_in_shrewsbury[c(\"date\",\"weekday\")])\nhead(visits_to_shrewsbury_in_working_week, n=10)",
      "execution_count": 4,
      "outputs": [
        {
          "output_type": "display_data",
          "data": {
            "text/plain": "    date       weekday\n66  2018-11-07 4      \n451 2018-11-06 3      \n983 2018-11-02 6      ",
            "text/latex": "\\begin{tabular}{r|ll}\n  & date & weekday\\\\\n\\hline\n\t66 & 2018-11-07 & 4         \\\\\n\t451 & 2018-11-06 & 3         \\\\\n\t983 & 2018-11-02 & 6         \\\\\n\\end{tabular}\n",
            "text/markdown": "\n| <!--/--> | date | weekday |\n|---|---|---|\n| 66 | 2018-11-07 | 4          |\n| 451 | 2018-11-06 | 3          |\n| 983 | 2018-11-02 | 6          |\n\n",
            "text/html": "<table>\n<thead><tr><th></th><th scope=col>date</th><th scope=col>weekday</th></tr></thead>\n<tbody>\n\t<tr><th scope=row>66</th><td>2018-11-07</td><td>4         </td></tr>\n\t<tr><th scope=row>451</th><td>2018-11-06</td><td>3         </td></tr>\n\t<tr><th scope=row>983</th><td>2018-11-02</td><td>6         </td></tr>\n</tbody>\n</table>\n"
          },
          "metadata": {}
        }
      ]
    },
    {
      "metadata": {},
      "cell_type": "markdown",
      "source": "Giving 3 visits to Shrewsbury in those 7 days."
    }
  ],
  "metadata": {
    "kernelspec": {
      "name": "r",
      "display_name": "R",
      "language": "R"
    },
    "language_info": {
      "mimetype": "text/x-r-source",
      "name": "R",
      "pygments_lexer": "r",
      "version": "3.4.1",
      "file_extension": ".r",
      "codemirror_mode": "r"
    }
  },
  "nbformat": 4,
  "nbformat_minor": 2
}