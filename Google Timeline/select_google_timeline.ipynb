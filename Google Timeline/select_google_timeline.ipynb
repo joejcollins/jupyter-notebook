{
  "cells": [
    {
      "metadata": {},
      "cell_type": "markdown",
      "source": "# Selecting from Google Timeline\n\nLoad up the file from Google Take Out <https://takeout.google.com/settings/takeout>."
    },
    {
      "metadata": {
        "trusted": true
      },
      "cell_type": "code",
      "source": "import json\nimport time\nimport dateutil.parser\n\nwith open('Location History.json', 'r') as f:\n    LOCATION_HISTORY = json.load(f)",
      "execution_count": 1,
      "outputs": []
    },
    {
      "metadata": {},
      "cell_type": "markdown",
      "source": "I like ISO 8601 dates because they are easier to read, so that's how the 8 hours on 3rd November are expressed."
    },
    {
      "metadata": {
        "trusted": true
      },
      "cell_type": "code",
      "source": "START = \"2018-11-03T07:00:00Z\"\nEND = \"2018-11-03T19:00:00Z\"\n\nstart = dateutil.parser.parse(START)\nend = dateutil.parser.parse(END)\n\nstart_posix = time.mktime(start.timetuple())\nend_posix = time.mktime(end.timetuple())",
      "execution_count": 2,
      "outputs": []
    },
    {
      "metadata": {},
      "cell_type": "markdown",
      "source": "Build up a list comprehension like this, starting with just the list.\n\n```\n[LOCATION_HISTORY['locations']]\n[location for location in LOCATION_HISTORY['locations']]\n[location for location in LOCATION_HISTORY['locations'] if location['timestampMs'] == '1545539869054']\n```"
    },
    {
      "metadata": {
        "trusted": true
      },
      "cell_type": "code",
      "source": "NOVEMBER_LOCATIONS = [location for location in LOCATION_HISTORY['locations'] \n                      if location['timestampMs'] <= str(end_posix)\n                      and location['timestampMs'] >= str(start_posix)]\n\nwith open('Selected Location History.json', 'w') as outfile:\n    json.dump({'locations': NOVEMBER_LOCATIONS}, outfile, indent=4, sort_keys=True)",
      "execution_count": 3,
      "outputs": []
    }
  ],
  "metadata": {
    "kernelspec": {
      "name": "python2",
      "display_name": "Python 2",
      "language": "python"
    },
    "language_info": {
      "mimetype": "text/x-python",
      "nbconvert_exporter": "python",
      "name": "python",
      "pygments_lexer": "ipython2",
      "version": "2.7.15",
      "file_extension": ".py",
      "codemirror_mode": {
        "version": 2,
        "name": "ipython"
      }
    }
  },
  "nbformat": 4,
  "nbformat_minor": 2
}