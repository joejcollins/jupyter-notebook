{
  "metadata": {
    "file_extension": ".py",
    "kernelspec": {
      "name": "r",
      "display_name": "R",
      "language": "R"
    },
    "language_info": {
      "mimetype": "text/x-r-source",
      "name": "R",
      "pygments_lexer": "r",
      "version": "3.5.3",
      "file_extension": ".r",
      "codemirror_mode": "r"
    },
    "mimetype": "text/x-python",
    "name": "python",
    "npconvert_exporter": "python",
    "pygments_lexer": "ipython3",
    "version": 3
  },
  "nbformat_minor": 2,
  "nbformat": 4,
  "cells": [
    {
      "cell_type": "markdown",
      "source": "# MAVIS Excel Data\nLoad the data this time from the first sheet of an Excel spreadsheet.\n\nMy binder seems to expect Python.",
      "metadata": {}
    },
    {
      "cell_type": "code",
      "source": "require(XLConnect)\nwb <- loadWorkbook(\"Preparing_data_for_MAVIS.xls\")\nIn <- readWorksheet(wb, sheet = \"To_R\", header = TRUE)",
      "metadata": {
        "trusted": true
      },
      "execution_count": null,
      "outputs": [
        {
          "text": "Loading required package: XLConnect\nLoading required package: XLConnectJars\n",
          "name": "stderr",
          "output_type": "stream"
        }
      ]
    },
    {
      "cell_type": "markdown",
      "source": "Get number of columns in input matrix and define plot counter",
      "metadata": {}
    },
    {
      "cell_type": "code",
      "source": "maxcol <- ncol(In)\ncounter=1",
      "metadata": {
        "trusted": true
      },
      "execution_count": null,
      "outputs": []
    },
    {
      "cell_type": "markdown",
      "source": "Define a data frame to take the accumulated quadrat species lists plus covers",
      "metadata": {}
    },
    {
      "cell_type": "code",
      "source": "Out <- data.frame(x=integer(0), y=character(0), z=integer(0))\nnames(Out)[c(1,2,3)] <- c(\"Quadrat\",\"Names\",\"Cover\")",
      "metadata": {
        "trusted": true
      },
      "execution_count": null,
      "outputs": []
    },
    {
      "cell_type": "markdown",
      "source": "Loop through matrix extracting each quadrat list and add to 'Out'",
      "metadata": {}
    },
    {
      "cell_type": "code",
      "source": "for (col in 2:maxcol)\n{ \n    Quadrat <- na.omit(In[,c(1,col)])\n    Qid <-rep(counter, times = nrow(Quadrat))\n    Quadrat <-cbind(Qid, Quadrat) \n    names(Quadrat)[c(1, 2, 3)] <- c(\"Quadrat\", \"Names\", \"Cover\")\n    Out <- rbind(Out, Quadrat)\n    counter = counter + 1\n}",
      "metadata": {
        "trusted": true
      },
      "execution_count": null,
      "outputs": []
    },
    {
      "cell_type": "markdown",
      "source": "Write to space delimited txt file",
      "metadata": {}
    },
    {
      "cell_type": "code",
      "source": "write.table(Out, \"mavis_data/Preparing_data_for_MAVIS_out.txt\", col.names=FALSE, row.names=FALSE, quote=FALSE)",
      "metadata": {
        "trusted": true
      },
      "execution_count": null,
      "outputs": []
    },
    {
      "cell_type": "code",
      "source": "",
      "metadata": {},
      "execution_count": null,
      "outputs": []
    },
    {
      "cell_type": "code",
      "source": "",
      "metadata": {},
      "execution_count": null,
      "outputs": []
    }
  ]
}