{
 "cells": [
  {
   "cell_type": "markdown",
   "metadata": {},
   "source": [
    "# MAVIS Excel Data\n",
    "Load the data this time from the first sheet of an Excel spreadsheet.\n",
    "\n",
    "My binder seems to expect Python."
   ]
  },
  {
   "cell_type": "code",
   "execution_count": null,
   "metadata": {},
   "outputs": [
    {
     "name": "stderr",
     "output_type": "stream",
     "text": [
      "Loading required package: XLConnect\n",
      "Loading required package: XLConnectJars\n"
     ]
    }
   ],
   "source": [
    "require(XLConnect)\n",
    "wb <- loadWorkbook(\"Preparing_data_for_MAVIS.xls\")\n",
    "In <- readWorksheet(wb, sheet = \"To_R\", header = TRUE)"
   ]
  },
  {
   "cell_type": "markdown",
   "metadata": {},
   "source": [
    "Get number of columns in input matrix and define plot counter"
   ]
  },
  {
   "cell_type": "code",
   "execution_count": null,
   "metadata": {},
   "outputs": [],
   "source": [
    "maxcol <- ncol(In)\n",
    "counter=1"
   ]
  },
  {
   "cell_type": "markdown",
   "metadata": {},
   "source": [
    "Define a data frame to take the accumulated quadrat species lists plus covers"
   ]
  },
  {
   "cell_type": "code",
   "execution_count": null,
   "metadata": {},
   "outputs": [],
   "source": [
    "Out <- data.frame(x=integer(0), y=character(0), z=integer(0))\n",
    "names(Out)[c(1,2,3)] <- c(\"Quadrat\",\"Names\",\"Cover\")"
   ]
  },
  {
   "cell_type": "markdown",
   "metadata": {},
   "source": [
    "Loop through matrix extracting each quadrat list and add to 'Out'"
   ]
  },
  {
   "cell_type": "code",
   "execution_count": null,
   "metadata": {},
   "outputs": [],
   "source": [
    "for (col in 2:maxcol)\n",
    "{ \n",
    "    Quadrat <- na.omit(In[,c(1,col)])\n",
    "    Qid <-rep(counter, times = nrow(Quadrat))\n",
    "    Quadrat <-cbind(Qid, Quadrat) \n",
    "    names(Quadrat)[c(1, 2, 3)] <- c(\"Quadrat\", \"Names\", \"Cover\")\n",
    "    Out <- rbind(Out, Quadrat)\n",
    "    counter = counter + 1\n",
    "}"
   ]
  },
  {
   "cell_type": "markdown",
   "metadata": {},
   "source": [
    "Write to space delimited txt file"
   ]
  },
  {
   "cell_type": "code",
   "execution_count": null,
   "metadata": {},
   "outputs": [],
   "source": [
    "write.table(Out, \"mavis_data/Preparing_data_for_MAVIS_out.txt\", col.names=FALSE, row.names=FALSE, quote=FALSE)"
   ]
  },
  {
   "cell_type": "code",
   "execution_count": null,
   "metadata": {},
   "outputs": [],
   "source": []
  },
  {
   "cell_type": "code",
   "execution_count": null,
   "metadata": {},
   "outputs": [],
   "source": []
  }
 ],
 "metadata": {
  "file_extension": ".py",
  "kernelspec": {
   "display_name": "R",
   "language": "R",
   "name": "ir"
  },
  "language_info": {
   "codemirror_mode": "r",
   "file_extension": ".r",
   "mimetype": "text/x-r-source",
   "name": "R",
   "pygments_lexer": "r",
   "version": "3.6.1"
  },
  "mimetype": "text/x-python",
  "name": "python",
  "npconvert_exporter": "python",
  "pygments_lexer": "ipython3",
  "version": 3
 },
 "nbformat": 4,
 "nbformat_minor": 2
}
