{
  "cells": [
    {
      "metadata": {},
      "cell_type": "markdown",
      "source": "# Checking ssh finger prints\n\nFor the given ssh public key generate md5 (`65:73:b8:a1:2b:f0:08:36:f7:c4:5d:e4:d7:d8:56:08`) and sha256\n(`qReUyTyRzocnY1bfy0ghVGOudo4CrAWvbdbMi4vQ0FI`) hashes.\n\n    ssh-rsa\n    AAAAB3NzaC1yc2EAAAADAQABAAABBwDWEzJA55Okk7P8VPdhOw5a\n    TsLsxnuT0iLbpFb+/\n    BOJ6SIvPtKNq1Tr4DXoIf9UG8Q6Mcuuglm1CFLDutVzcRHNjJ8FLu+LKQ\n    X9tn6fJy3oWHMtB15vRVM8J2sg48Fy8lFncT4mxG1ig2/\n    vrjNdKJXj93wNsLn4oUMLWim1+5BIFoejw2+Oq26/In6gXxGj2LG+\n    +z9yG540cOMZkxr8dcKi91ozvuJt8I1H2uh1Ujt33xqNGmYKBevsAb/\n    RpbWF9dLJ/\n    myJLVK6H6k2x479ZvWVRsK4O+oY3IBlR316NG58BO+ICmNArSPfHOfF\n    1rtoGlrSrsxBxTE6N2xF+YqBqwX7vKKnDcMp DevInteriew\n\nThe key includes newlines and there is no space after `ssh-rsa`\n\n\n, so I took out the newlines and added the space in an editor (not sure about the validity of this str).\n\n```bash\nfor file in ./*.pub; do ssh-keygen -lf \"$file\"; done\n```"
    },
    {
      "metadata": {
        "trusted": true
      },
      "cell_type": "code",
      "source": "%%capture # Suppress the output so everything looks neater\n!pip install sshpubkeys # Install sshpubkeys because it doesn't come by default with Azure Notebooks\nimport hashlib\nimport base64\nimport sshpubkeys",
      "execution_count": 42,
      "outputs": []
    },
    {
      "metadata": {
        "trusted": true
      },
      "cell_type": "code",
      "source": "myfile = open(\"DevInterview.pub\", \"r\")\nkey = myfile.read()\nprint(key)",
      "execution_count": 43,
      "outputs": [
        {
          "output_type": "stream",
          "text": "ssh-rsa AAAAB3NzaC1yc2EAAAADAQABAAABBwDWEzJA55Okk7P8VPdhOw5aTsLsxnuT0iLbpFb+/BOJ6SIvPtKNq1Tr4DXoIf9UG8Q6Mcuuglm1CFLDutVzcRHNjJ8FLu+LKQX9tn6fJy3oWHMtB15vRVM8J2sg48Fy8lFncT4mxG1ig2/vrjNdKJXj93wNsLn4oUMLWim1+5BIFoejw2+Oq26/In6gXxGj2LG++z9yG540cOMZkxr8dcKi91ozvuJt8I1H2uh1Ujt33xqNGmYKBevsAb/RpbWF9dLJ/myJLVK6H6k2x479ZvWVRsK4O+oY3IBlR316NG58BO+ICmNArSPfHOfF1rtoGlrSrsxBxTE6N2xF+YqBqwX7vKKnDcMp DevInteriew\n",
          "name": "stdout"
        }
      ]
    },
    {
      "metadata": {
        "trusted": true
      },
      "cell_type": "code",
      "source": "key = sshpubkeys.SSHKey(key)\nprint(key.hash_md5())\nprint(key.hash_sha256())",
      "execution_count": 44,
      "outputs": [
        {
          "output_type": "stream",
          "text": "MD5:ad:86:95:d7:5c:5d:fc:00:9d:87:57:f0:ff:5d:fc:e7\nSHA256:VjwHh8jTGMCibdfEboLjn+dWAjcsyarVeQ7m9xfBNLk\n",
          "name": "stdout"
        }
      ]
    },
    {
      "metadata": {
        "trusted": true
      },
      "cell_type": "code",
      "source": "myfile = open(\"key-03.pub\", \"r\")\nkey = myfile.read()\nkey = sshpubkeys.SSHKey(key)\nprint(key.hash_md5())\nprint(key.hash_sha256())",
      "execution_count": 1,
      "outputs": [
        {
          "output_type": "error",
          "ename": "NameError",
          "evalue": "name 'sshpubkeys' is not defined",
          "traceback": [
            "\u001b[0;31m\u001b[0m",
            "\u001b[0;31mNameError\u001b[0mTraceback (most recent call last)",
            "\u001b[0;32m<ipython-input-1-5b189f9bd6c5>\u001b[0m in \u001b[0;36m<module>\u001b[0;34m()\u001b[0m\n\u001b[1;32m      1\u001b[0m \u001b[0mmyfile\u001b[0m \u001b[0;34m=\u001b[0m \u001b[0mopen\u001b[0m\u001b[0;34m(\u001b[0m\u001b[0;34m\"key-03.pub\"\u001b[0m\u001b[0;34m,\u001b[0m \u001b[0;34m\"r\"\u001b[0m\u001b[0;34m)\u001b[0m\u001b[0;34m\u001b[0m\u001b[0m\n\u001b[1;32m      2\u001b[0m \u001b[0mkey\u001b[0m \u001b[0;34m=\u001b[0m \u001b[0mmyfile\u001b[0m\u001b[0;34m.\u001b[0m\u001b[0mread\u001b[0m\u001b[0;34m(\u001b[0m\u001b[0;34m)\u001b[0m\u001b[0;34m\u001b[0m\u001b[0m\n\u001b[0;32m----> 3\u001b[0;31m \u001b[0mkey\u001b[0m \u001b[0;34m=\u001b[0m \u001b[0msshpubkeys\u001b[0m\u001b[0;34m.\u001b[0m\u001b[0mSSHKey\u001b[0m\u001b[0;34m(\u001b[0m\u001b[0mkey\u001b[0m\u001b[0;34m)\u001b[0m\u001b[0;34m\u001b[0m\u001b[0m\n\u001b[0m\u001b[1;32m      4\u001b[0m \u001b[0;32mprint\u001b[0m\u001b[0;34m(\u001b[0m\u001b[0mkey\u001b[0m\u001b[0;34m.\u001b[0m\u001b[0mhash_md5\u001b[0m\u001b[0;34m(\u001b[0m\u001b[0;34m)\u001b[0m\u001b[0;34m)\u001b[0m\u001b[0;34m\u001b[0m\u001b[0m\n\u001b[1;32m      5\u001b[0m \u001b[0;32mprint\u001b[0m\u001b[0;34m(\u001b[0m\u001b[0mkey\u001b[0m\u001b[0;34m.\u001b[0m\u001b[0mhash_sha256\u001b[0m\u001b[0;34m(\u001b[0m\u001b[0;34m)\u001b[0m\u001b[0;34m)\u001b[0m\u001b[0;34m\u001b[0m\u001b[0m\n",
            "\u001b[0;31mNameError\u001b[0m: name 'sshpubkeys' is not defined"
          ]
        }
      ]
    },
    {
      "metadata": {
        "trusted": true
      },
      "cell_type": "code",
      "source": "",
      "execution_count": null,
      "outputs": []
    }
  ],
  "metadata": {
    "kernelspec": {
      "name": "python2",
      "display_name": "Python 2",
      "language": "python"
    },
    "language_info": {
      "mimetype": "text/x-python",
      "nbconvert_exporter": "python",
      "name": "python",
      "pygments_lexer": "ipython2",
      "version": "2.7.15",
      "file_extension": ".py",
      "codemirror_mode": {
        "version": 2,
        "name": "ipython"
      }
    }
  },
  "nbformat": 4,
  "nbformat_minor": 2
}