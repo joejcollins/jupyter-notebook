{
  "cells": [
    {
      "metadata": {},
      "cell_type": "markdown",
      "source": "# Checking ssh finger prints\n\nFor the given ssh public key generate md5 (`65:73:b8:a1:2b:f0:08:36:f7:c4:5d:e4:d7:d8:56:08`) and sha256\n(`qReUyTyRzocnY1bfy0ghVGOudo4CrAWvbdbMi4vQ0FI`) hashes.\n\n    ssh-rsa\n    AAAAB3NzaC1yc2EAAAADAQABAAABBwDWEzJA55Okk7P8VPdhOw5a\n    TsLsxnuT0iLbpFb+/\n    BOJ6SIvPtKNq1Tr4DXoIf9UG8Q6Mcuuglm1CFLDutVzcRHNjJ8FLu+LKQ\n    X9tn6fJy3oWHMtB15vRVM8J2sg48Fy8lFncT4mxG1ig2/\n    vrjNdKJXj93wNsLn4oUMLWim1+5BIFoejw2+Oq26/In6gXxGj2LG+\n    +z9yG540cOMZkxr8dcKi91ozvuJt8I1H2uh1Ujt33xqNGmYKBevsAb/\n    RpbWF9dLJ/\n    myJLVK6H6k2x479ZvWVRsK4O+oY3IBlR316NG58BO+ICmNArSPfHOfF\n    1rtoGlrSrsxBxTE6N2xF+YqBqwX7vKKnDcMp DevInteriew\n\n## Using ssh-keygen\n\nThe key includes newlines and there is no space after `ssh-rsa` so `ssh-keygen -lf key-original.pub` reports that \n`key-original.pub is not a public key file.`  I took out the newlines and added the space in an editor on the assumption that the newline had been added in transmission so now `ssh-keygen -lf key-edited.pub -E md5` reports `D5:ad:86:95:d7:5c:5d:fc:00:9d:87:57:f0:ff:5d:fc:e7` which doesn't match the original fingerprint.  So either the key and fingerprints don't match or the edits have messed something up.\n\nFor test purposes I've generated an additional key and edited it to put in some new lines.  Running `for file in ./*.pub; do ssh-keygen -lf \"$file\" -E md5; done` confirms that `ssh-keygen` doesn't like newlines.\n\n    ./key-generated-edited.pub is not a public key file.\n     (RSA)D5:0f:3e:30:30:b0:27:c8:59:f9:58:d9:30:a8:b6:e4:72 key-generated\n     (RSA)D5:ad:86:95:d7:5c:5d:fc:00:9d:87:57:f0:ff:5d:fc:e7 key-original-edited\n    ./key-original.pub is not a public key file.\n\nFor completeness `for file in ./*.pub; do ssh-keygen -lf \"$file\" -E sha256; done` delivers this.\n\n    ./key-generated-edited.pub is not a public key file.\n     (RSA)HA256:69yuLaGVhPMp+3q3PzN/2ekzhnujMcNTdODpbCc/nhU key-generated\n     (RSA)HA256:VjwHh8jTGMCibdfEboLjn+dWAjcsyarVeQ7m9xfBNLk key-original-edited\n    ./key-original.pub is not a public key file.\n"
    },
    {
      "metadata": {
        "trusted": true
      },
      "cell_type": "code",
      "source": "%%capture\n# Install sshpubkeys because it doesn't come by default with Azure Notebooks\n!pip install sshpubkeys \nimport hashlib\nimport base64\nimport sshpubkeys\nimport glob",
      "execution_count": 1,
      "outputs": []
    },
    {
      "metadata": {},
      "cell_type": "markdown",
      "source": "## Using Python\n\nThe favoured answer on Stackoverflow <https://stackoverflow.com/questions/6682815/deriving-an-ssh-fingerprint-from-a-public-key-in-python> is the function below, which can cope with the original key and the edited one but both of which generate different output neither of which match the submitted fingerprints."
    },
    {
      "metadata": {
        "trusted": true
      },
      "cell_type": "code",
      "source": "def lineToFingerprint(line):\n    key = base64.b64decode(line.strip().split()[1].encode('ascii'))\n    fp_plain = hashlib.md5(key).hexdigest()\n    return ':'.join(a+b for a,b in zip(fp_plain[::2], fp_plain[1::2]))\n\nkey_original = open(\"./Interview Demos/key-original.pub\", \"r\").read()\nlineToFingerprint(key_original)",
      "execution_count": 3,
      "outputs": [
        {
          "output_type": "error",
          "ename": "IOError",
          "evalue": "[Errno 2] No such file or directory: './Interview Demos/key-original.pub'",
          "traceback": [
            "\u001b[0;31m\u001b[0m",
            "\u001b[0;31mIOError\u001b[0mTraceback (most recent call last)",
            "\u001b[0;32m<ipython-input-3-432ce55b98c7>\u001b[0m in \u001b[0;36m<module>\u001b[0;34m()\u001b[0m\n\u001b[1;32m      4\u001b[0m     \u001b[0;32mreturn\u001b[0m \u001b[0;34m':'\u001b[0m\u001b[0;34m.\u001b[0m\u001b[0mjoin\u001b[0m\u001b[0;34m(\u001b[0m\u001b[0ma\u001b[0m\u001b[0;34m+\u001b[0m\u001b[0mb\u001b[0m \u001b[0;32mfor\u001b[0m \u001b[0ma\u001b[0m\u001b[0;34m,\u001b[0m\u001b[0mb\u001b[0m \u001b[0;32min\u001b[0m \u001b[0mzip\u001b[0m\u001b[0;34m(\u001b[0m\u001b[0mfp_plain\u001b[0m\u001b[0;34m[\u001b[0m\u001b[0;34m:\u001b[0m\u001b[0;34m:\u001b[0m\u001b[0;36m2\u001b[0m\u001b[0;34m]\u001b[0m\u001b[0;34m,\u001b[0m \u001b[0mfp_plain\u001b[0m\u001b[0;34m[\u001b[0m\u001b[0;36m1\u001b[0m\u001b[0;34m:\u001b[0m\u001b[0;34m:\u001b[0m\u001b[0;36m2\u001b[0m\u001b[0;34m]\u001b[0m\u001b[0;34m)\u001b[0m\u001b[0;34m)\u001b[0m\u001b[0;34m\u001b[0m\u001b[0m\n\u001b[1;32m      5\u001b[0m \u001b[0;34m\u001b[0m\u001b[0m\n\u001b[0;32m----> 6\u001b[0;31m \u001b[0mkey_original\u001b[0m \u001b[0;34m=\u001b[0m \u001b[0mopen\u001b[0m\u001b[0;34m(\u001b[0m\u001b[0;34m\"./Interview Demos/key-original.pub\"\u001b[0m\u001b[0;34m,\u001b[0m \u001b[0;34m\"r\"\u001b[0m\u001b[0;34m)\u001b[0m\u001b[0;34m.\u001b[0m\u001b[0mread\u001b[0m\u001b[0;34m(\u001b[0m\u001b[0;34m)\u001b[0m\u001b[0;34m\u001b[0m\u001b[0m\n\u001b[0m\u001b[1;32m      7\u001b[0m \u001b[0mlineToFingerprint\u001b[0m\u001b[0;34m(\u001b[0m\u001b[0mkey_original\u001b[0m\u001b[0;34m)\u001b[0m\u001b[0;34m\u001b[0m\u001b[0m\n",
            "\u001b[0;31mIOError\u001b[0m: [Errno 2] No such file or directory: './Interview Demos/key-original.pub'"
          ]
        }
      ]
    },
    {
      "metadata": {
        "trusted": true
      },
      "cell_type": "code",
      "source": "key_edited = open(\"demos/key-original-edited.pub\", \"r\").read()\nlineToFingerprint(key_edited)",
      "execution_count": null,
      "outputs": []
    },
    {
      "metadata": {},
      "cell_type": "markdown",
      "source": "At least the fingerprint for `key-original-edited.pub` matches the one provided by `ssh-keygen`.\n\n## Using sshpubkeys package\n\nThe task is to generate both md5 and sha256 hashes.  It seems most straight forward to use the `sshpubkeys` package which will parse the keys and provide both (and incidentally uses the Stackoverflow answer for the md5 fingerprint)."
    },
    {
      "metadata": {
        "trusted": true
      },
      "cell_type": "code",
      "source": "for key_file in glob.glob('*.pub'):\n    key_string = open(key_file, \"r\").read()\n    key = sshpubkeys.SSHKey(key_string)\n    print(key_file)\n    print(key.hash_md5())\n    print(key.hash_sha256())",
      "execution_count": null,
      "outputs": []
    },
    {
      "metadata": {},
      "cell_type": "markdown",
      "source": "## Conclusion\n\nNone of the fingerprints match so it is clear (and unsurprising) that you cannot arbitarily go adding or removing newlines in keys.  I do remember removing newlines from a key Stuart emailed to me but this was to get it back into the form it was before emailing.\n\nI am at a loss to know why the given fingerprints don't match the ones generated."
    }
  ],
  "metadata": {
    "language_info": {
      "mimetype": "text/x-python",
      "nbconvert_exporter": "python",
      "name": "python",
      "pygments_lexer": "ipython2",
      "version": "2.7.15",
      "file_extension": ".py",
      "codemirror_mode": {
        "version": 2,
        "name": "ipython"
      }
    },
    "file_extension": ".py",
    "mimetype": "text/x-python",
    "name": "python",
    "npconvert_exporter": "python",
    "pygments_lexer": "ipython3",
    "version": 3,
    "kernelspec": {
      "name": "python2",
      "display_name": "Python 2",
      "language": "python"
    }
  },
  "nbformat": 4,
  "nbformat_minor": 1
}