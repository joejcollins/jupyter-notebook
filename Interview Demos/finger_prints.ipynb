{
 "cells": [
  {
   "cell_type": "markdown",
   "metadata": {},
   "source": [
    "# Checking ssh finger prints\n",
    "\n",
    "For the given ssh public key generate md5 (`65:73:b8:a1:2b:f0:08:36:f7:c4:5d:e4:d7:d8:56:08`) and sha256\n",
    "(`qReUyTyRzocnY1bfy0ghVGOudo4CrAWvbdbMi4vQ0FI`) hashes.\n",
    "\n",
    "    ssh-rsa\n",
    "    AAAAB3NzaC1yc2EAAAADAQABAAABBwDWEzJA55Okk7P8VPdhOw5a\n",
    "    TsLsxnuT0iLbpFb+/\n",
    "    BOJ6SIvPtKNq1Tr4DXoIf9UG8Q6Mcuuglm1CFLDutVzcRHNjJ8FLu+LKQ\n",
    "    X9tn6fJy3oWHMtB15vRVM8J2sg48Fy8lFncT4mxG1ig2/\n",
    "    vrjNdKJXj93wNsLn4oUMLWim1+5BIFoejw2+Oq26/In6gXxGj2LG+\n",
    "    +z9yG540cOMZkxr8dcKi91ozvuJt8I1H2uh1Ujt33xqNGmYKBevsAb/\n",
    "    RpbWF9dLJ/\n",
    "    myJLVK6H6k2x479ZvWVRsK4O+oY3IBlR316NG58BO+ICmNArSPfHOfF\n",
    "    1rtoGlrSrsxBxTE6N2xF+YqBqwX7vKKnDcMp DevInteriew\n",
    "\n",
    "## Using ssh-keygen\n",
    "\n",
    "The key includes newlines and there is no space after `ssh-rsa` so `ssh-keygen -lf key-original.pub` reports that \n",
    "`key-original.pub is not a public key file.`  I took out the newlines and added the space in an editor on the assumption that the newline had been added in transmission so now `ssh-keygen -lf key-edited.pub -E md5` reports `D5:ad:86:95:d7:5c:5d:fc:00:9d:87:57:f0:ff:5d:fc:e7` which doesn't match the original fingerprint.  So either the key and fingerprints don't match or the edits have messed something up.\n",
    "\n",
    "For test purposes I've generated an additional key and edited it to put in some new lines.  Running `for file in ./*.pub; do ssh-keygen -lf \"$file\" -E md5; done` confirms that `ssh-keygen` doesn't like newlines.\n",
    "\n",
    "    ./key-generated-edited.pub is not a public key file.\n",
    "     (RSA)D5:0f:3e:30:30:b0:27:c8:59:f9:58:d9:30:a8:b6:e4:72 key-generated\n",
    "     (RSA)D5:ad:86:95:d7:5c:5d:fc:00:9d:87:57:f0:ff:5d:fc:e7 key-original-edited\n",
    "    ./key-original.pub is not a public key file.\n",
    "\n",
    "For completeness `for file in ./*.pub; do ssh-keygen -lf \"$file\" -E sha256; done` delivers this.\n",
    "\n",
    "    ./key-generated-edited.pub is not a public key file.\n",
    "     (RSA)HA256:69yuLaGVhPMp+3q3PzN/2ekzhnujMcNTdODpbCc/nhU key-generated\n",
    "     (RSA)HA256:VjwHh8jTGMCibdfEboLjn+dWAjcsyarVeQ7m9xfBNLk key-original-edited\n",
    "    ./key-original.pub is not a public key file.\n"
   ]
  },
  {
   "cell_type": "code",
   "execution_count": 1,
   "metadata": {},
   "outputs": [],
   "source": [
    "%%capture\n",
    "# Install sshpubkeys because it doesn't come by default with Azure Notebooks\n",
    "!pip install sshpubkeys \n",
    "import hashlib\n",
    "import base64\n",
    "import sshpubkeys\n",
    "import glob"
   ]
  },
  {
   "cell_type": "markdown",
   "metadata": {},
   "source": [
    "## Using Python\n",
    "\n",
    "The favoured answer on Stackoverflow <https://stackoverflow.com/questions/6682815/deriving-an-ssh-fingerprint-from-a-public-key-in-python> is the function below, which can cope with the original key and the edited one but both of which generate different output neither of which match the submitted fingerprints."
   ]
  },
  {
   "cell_type": "code",
   "execution_count": 3,
   "metadata": {},
   "outputs": [
    {
     "data": {
      "text/plain": [
       "'e5:db:b7:38:3c:77:de:4c:97:8c:b0:77:4a:a1:49:8f'"
      ]
     },
     "execution_count": 3,
     "metadata": {},
     "output_type": "execute_result"
    }
   ],
   "source": [
    "def lineToFingerprint(line):\n",
    "    key = base64.b64decode(line.strip().split()[1].encode('ascii'))\n",
    "    fp_plain = hashlib.md5(key).hexdigest()\n",
    "    return ':'.join(a+b for a,b in zip(fp_plain[::2], fp_plain[1::2]))\n",
    "\n",
    "key_original = open(\"key-original.pub\", \"r\").read()\n",
    "lineToFingerprint(key_original)"
   ]
  },
  {
   "cell_type": "code",
   "execution_count": 5,
   "metadata": {},
   "outputs": [
    {
     "data": {
      "text/plain": [
       "'ad:86:95:d7:5c:5d:fc:00:9d:87:57:f0:ff:5d:fc:e7'"
      ]
     },
     "execution_count": 5,
     "metadata": {},
     "output_type": "execute_result"
    }
   ],
   "source": [
    "key_edited = open(\"key-original-edited.pub\", \"r\").read()\n",
    "lineToFingerprint(key_edited)"
   ]
  },
  {
   "cell_type": "markdown",
   "metadata": {},
   "source": [
    "At least the fingerprint for `key-original-edited.pub` matches the one provided by `ssh-keygen`.\n",
    "\n",
    "## Using sshpubkeys package\n",
    "\n",
    "The task is to generate both md5 and sha256 hashes.  It seems most straight forward to use the `sshpubkeys` package which will parse the keys and provide both (and incidentally uses the Stackoverflow answer for the md5 fingerprint)."
   ]
  },
  {
   "cell_type": "code",
   "execution_count": 6,
   "metadata": {},
   "outputs": [
    {
     "name": "stdout",
     "output_type": "stream",
     "text": [
      "key-generated.pub\n",
      "MD5:0f:3e:30:30:b0:27:c8:59:f9:58:d9:30:a8:b6:e4:72\n",
      "SHA256:69yuLaGVhPMp+3q3PzN/2ekzhnujMcNTdODpbCc/nhU\n",
      "key-original.pub\n",
      "MD5:e5:db:b7:38:3c:77:de:4c:97:8c:b0:77:4a:a1:49:8f\n",
      "SHA256:iouUdQd3Rz9Vj7zGxMBVj8HTyvRwQG5nCjwpV/5CIkE\n",
      "key-original-edited.pub\n",
      "MD5:ad:86:95:d7:5c:5d:fc:00:9d:87:57:f0:ff:5d:fc:e7\n",
      "SHA256:VjwHh8jTGMCibdfEboLjn+dWAjcsyarVeQ7m9xfBNLk\n",
      "key-generated-edited.pub\n",
      "MD5:4a:1f:d8:d1:b9:79:21:10:c9:8b:ff:c6:17:c2:34:20\n",
      "SHA256:Nh9It/NEWD93hSE+z6QN9QtSb6vDuqJ88yn1AfwDNak\n"
     ]
    }
   ],
   "source": [
    "for key_file in glob.glob('*.pub'):\n",
    "    key_string = open(key_file, \"r\").read()\n",
    "    key = sshpubkeys.SSHKey(key_string)\n",
    "    print(key_file)\n",
    "    print(key.hash_md5())\n",
    "    print(key.hash_sha256())"
   ]
  },
  {
   "cell_type": "markdown",
   "metadata": {},
   "source": [
    "## Conclusion\n",
    "\n",
    "None of the fingerprints match so it is clear (and unsurprising) that you cannot arbitarily go adding or removing newlines in keys.  I do remember removing newlines from a key Stuart emailed to me but this was to get it back into the form it was before emailing.\n",
    "\n",
    "I am at a loss to know why the given fingerprints don't match the ones generated."
   ]
  },
  {
   "cell_type": "code",
   "execution_count": null,
   "metadata": {},
   "outputs": [],
   "source": []
  }
 ],
 "metadata": {
  "file_extension": ".py",
  "kernelspec": {
   "display_name": "Python 3",
   "language": "python",
   "name": "python3"
  },
  "language_info": {
   "codemirror_mode": {
    "name": "ipython",
    "version": 3
   },
   "file_extension": ".py",
   "mimetype": "text/x-python",
   "name": "python",
   "nbconvert_exporter": "python",
   "pygments_lexer": "ipython3",
   "version": "3.7.3"
  },
  "mimetype": "text/x-python",
  "name": "python",
  "npconvert_exporter": "python",
  "pygments_lexer": "ipython3",
  "version": 3
 },
 "nbformat": 4,
 "nbformat_minor": 1
}
