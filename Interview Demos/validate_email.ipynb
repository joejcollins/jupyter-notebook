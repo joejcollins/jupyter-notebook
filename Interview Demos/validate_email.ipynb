{
  "cells": [
    {
      "metadata": {},
      "cell_type": "markdown",
      "source": "# Validating Email Addresses\n\nThere might be some utility in rapidly rejecting obviously incorrect\nemail addresses without sending an email confirmation to a clearly\nbogus address.  So I'd go with the regex from <https://emailregex.com/>\nwith some additions."
    },
    {
      "metadata": {
        "trusted": true
      },
      "cell_type": "code",
      "source": "# -*- coding: utf-8 -*-\nimport re\nimport unittest\n\ndef is_valid_email(email):\n    ''' return true if it kind of looks like an email address\n\n    ^(?!\\.)   don't start with .\n    \\\"        allow \" in the username\n    @(?!-)    no - after the @\n    (?<!\\.)@  no . before the @\n    \\[        allow [ in the first part of the hostname\n    \\.(?!\\.)  no . after the .\n    \\]        allow ] in the last part of the hostname\n\n    '''\n    email_regex = r\"(^(?!\\.)[\\\"a-zA-Z0-9_.+-]+(?<!\\.)@(?!-)[\\[a-zA-Z0-9-]+\\.(?!\\.)[a-zA-Z0-9-.\\]]+$)\"\n    if len(email) > 7:\n        if re.match(email_regex, email) != None:\n            return True\n    return False",
      "execution_count": 1,
      "outputs": []
    },
    {
      "metadata": {},
      "cell_type": "markdown",
      "source": "Use the function like this:"
    },
    {
      "metadata": {
        "trusted": true
      },
      "cell_type": "code",
      "source": "EMAIL_ADDRESS = \"name@mailserver.com\"\nif is_valid_email(EMAIL_ADDRESS):\n    print EMAIL_ADDRESS + \" is a valid email address\"\nelse:\n    print EMAIL_ADDRESS + \" is not a valid email address\"",
      "execution_count": 2,
      "outputs": [
        {
          "output_type": "stream",
          "text": "name@mailserver.com is a valid email address\n",
          "name": "stdout"
        }
      ]
    },
    {
      "metadata": {},
      "cell_type": "markdown",
      "source": "## Tests\n\nDeveloping the regex without tests is kind of implausible, so I'll use some supposedly valid and invalid emails from <https://blogs.msdn.microsoft.com/testing123/2009/02/06/email-address-test-cases/>."
    },
    {
      "metadata": {
        "trusted": true
      },
      "cell_type": "code",
      "source": "class TestValid(unittest.TestCase):\n    def test_valid_emails(self):\n        valid_emails = [\"email@domain.com\", \"firstname.lastname@domain.com\",\n                        \"email@subdomain.domain.com\", \"firstname+lastname@domain.com\",\n                        \"email@123.123.123.123\", \"1234567890@domain.com\",\n                        \"email@domain-one.com\", \"_______@domain.com\",\n                        \"email@domain.name\", \"email@domain.co.jp\",\n                        \"firstname-lastname@domain.com\", '\"email\"@domain.com',\n                        \"email@[123.123.123.123]\"]\n        for email in valid_emails:\n            self.assertTrue(is_valid_email(email))",
      "execution_count": 3,
      "outputs": []
    },
    {
      "metadata": {
        "trusted": true
      },
      "cell_type": "markdown",
      "source": "There is also a list of invalid emails from <https://blogs.msdn.microsoft.com/testing123/2009/02/06/email-address-test-cases/>. "
    },
    {
      "metadata": {
        "trusted": true
      },
      "cell_type": "code",
      "source": "class TestInvalid(unittest.TestCase):\n    def test_invalid_emails(self):\n        invalid_emails = [\"plainaddress\", \"#@%^%#$@#$@#.com\", \"@domain.com\",\n                          \"Joe Smith <email@domain.com>\", \"email.domain.com\",\n                          \"email@domain@domain.com\", u\"あいうえお@domain.com\",\n                          \"email@domain.com (Joe Smith)\", \"email@domain\",\n                          \"email@-domain.com\", \".email@domain.com\",\n                          \"email.@domain.com\", \"email@domain..com\"]\n        for email in invalid_emails:\n            self.assertFalse(is_valid_email(email))",
      "execution_count": 4,
      "outputs": []
    },
    {
      "metadata": {
        "trusted": true
      },
      "cell_type": "markdown",
      "source": "### Tests Incomplete\n\nUnfortunately these supposedly invalid emails pass as valid.\n\n    \"email@domain.web\",\n    \"email..email@domain.com\",\n    \"email@111.222.333.44444\"\n\n...but the regex is getting harder to read so maybe I should split it up into a series of regexes that are easier to read and focus on particular invalid features."
    },
    {
      "metadata": {
        "trusted": true
      },
      "cell_type": "code",
      "source": "unittest.main(argv=[''], verbosity=2, exit=False)",
      "execution_count": 5,
      "outputs": [
        {
          "output_type": "stream",
          "text": "test_invalid_emails (__main__.TestInvalid) ... ok\ntest_valid_emails (__main__.TestValid) ... ok\n\n----------------------------------------------------------------------\nRan 2 tests in 0.015s\n\nOK\n",
          "name": "stderr"
        },
        {
          "output_type": "execute_result",
          "execution_count": 5,
          "data": {
            "text/plain": "<unittest.main.TestProgram at 0x7fc7ba338d10>"
          },
          "metadata": {}
        }
      ]
    }
  ],
  "metadata": {
    "kernelspec": {
      "name": "python2",
      "display_name": "Python 2",
      "language": "python"
    },
    "language_info": {
      "mimetype": "text/x-python",
      "nbconvert_exporter": "python",
      "name": "python",
      "pygments_lexer": "ipython2",
      "version": "2.7.15",
      "file_extension": ".py",
      "codemirror_mode": {
        "version": 2,
        "name": "ipython"
      }
    }
  },
  "nbformat": 4,
  "nbformat_minor": 2
}