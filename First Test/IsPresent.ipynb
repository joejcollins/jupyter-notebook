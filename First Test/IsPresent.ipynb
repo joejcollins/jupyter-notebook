{
  "cells": [
    {
      "metadata": {
        "collapsed": true
      },
      "cell_type": "markdown",
      "source": "# Is the method present"
    },
    {
      "metadata": {
        "trusted": true
      },
      "cell_type": "code",
      "source": "\"\"\" Assemble the details from the lines \"\"\"\nimport json\nimport unittest\nimport os\nfrom package.ocr import Ocr\n\nINPUT_DATA_FILENAME = os.path.join(os.path.dirname(__file__), 'json_lines_filtered_expected.json')\nEXPECTED_DATA_FILENAME = os.path.join(os.path.dirname(__file__), 'json_assembled_details_expected.json')\n\nclass TestOcrAssembleDetails(unittest.TestCase):\n    \"\"\" Test the Ocr module in the package \"\"\"\n\n    def setUp(self):\n        self.testdata = open(INPUT_DATA_FILENAME).read()\n\n    def test_method_is_present(self):\n        \"\"\" Confirm that the method is present \"\"\"\n        try:\n            Ocr.assemble_details\n        except AttributeError:\n            self.fail(\"Method not present\")\n\n    def test_assemble_details_returns_json(self):\n        \"\"\" Should take file path and return valid json \"\"\"\n        assembled_details_json = Ocr.assemble_details(INPUT_DATA_FILENAME)\n        try:\n            json.loads(assembled_details_json)\n        except ValueError:\n            self.fail(\"Json not returned\")\n",
      "execution_count": null,
      "outputs": []
    }
  ],
  "metadata": {
    "kernelspec": {
      "name": "python2",
      "display_name": "Python 2",
      "language": "python"
    },
    "language_info": {
      "mimetype": "text/x-python",
      "nbconvert_exporter": "python",
      "name": "python",
      "pygments_lexer": "ipython2",
      "version": "2.7.15",
      "file_extension": ".py",
      "codemirror_mode": {
        "version": 2,
        "name": "ipython"
      }
    }
  },
  "nbformat": 4,
  "nbformat_minor": 2
}