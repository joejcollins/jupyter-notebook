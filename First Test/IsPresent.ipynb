{
  "cells": [
    {
      "cell_type": "markdown",
      "execution_count": null,
      "metadata": {
        "collapsed": true
      },
      "outputs": [],
      "source": [
        "# Is the method present"
      ]
    },
    {
      "cell_type": "code",
      "execution_count": 11,
      "metadata": {},
      "outputs": [
        {
          "name": "stderr",
          "output_type": "stream",
          "text": "..\n----------------------------------------------------------------------\nRan 2 tests in 0.014s\n\nOK\n"
        }
      ],
      "source": [
        "\"\"\" Assemble the details from the lines \"\"\"\n",
        "import json\n",
        "import unittest\n",
        "import os\n",
        "from package.ocr import Ocr\n",
        "\n",
        "INPUT_DATA_FILENAME = os.path.join(os.path.abspath(''), 'json_lines_filtered_expected.json')\n",
        "EXPECTED_DATA_FILENAME = os.path.join(os.path.abspath(''), 'json_assembled_details_expected.json')\n",
        "\n",
        "class TestOcrAssembleDetails(unittest.TestCase):\n",
        "    \"\"\" Test the Ocr module in the package \"\"\"\n",
        "\n",
        "    def setUp(self):\n",
        "        self.testdata = open(INPUT_DATA_FILENAME).read()\n",
        "\n",
        "    def test_method_is_present(self):\n",
        "        \"\"\" Confirm that the method is present \"\"\"\n",
        "        try:\n",
        "            Ocr.assemble_details\n",
        "        except AttributeError:\n",
        "            self.fail(\"Method not present\")\n",
        "\n",
        "    def test_assemble_details_returns_json(self):\n",
        "        \"\"\" Should take file path and return valid json \"\"\"\n",
        "        assembled_details_json = Ocr.assemble_details(INPUT_DATA_FILENAME)\n",
        "        try:\n",
        "            json.loads(assembled_details_json)\n",
        "        except ValueError:\n",
        "            self.fail(\"Json not returned\")\n",
        "\n",
        "if __name__ == '__main__':\n",
        "    unittest.main(argv=['first-arg-is-ignored'], exit=False)\n"
      ]
    }
  ],
  "metadata": {
    "kernelspec": {
      "name": "python37664bitb1a18a6839e9480a9e0bfe0baf9b1491",
      "display_name": "Python 3.7.6 64-bit",
      "language": "python"
    },
    "language_info": {
      "mimetype": "text/x-python",
      "nbconvert_exporter": "python",
      "name": "python",
      "pygments_lexer": "ipython2",
      "version": "3.7.6-final",
      "file_extension": ".py",
      "codemirror_mode": {
        "version": 2,
        "name": "ipython"
      }
    }
  },
  "nbformat": 4,
  "nbformat_minor": 2
}